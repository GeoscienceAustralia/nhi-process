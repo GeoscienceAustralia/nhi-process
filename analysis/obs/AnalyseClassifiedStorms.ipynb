{
 "cells": [
  {
   "cell_type": "code",
   "execution_count": null,
   "id": "127adedc",
   "metadata": {},
   "outputs": [],
   "source": [
    "%matplotlib inline\n",
    "\n",
    "from os.path import join as pjoin\n",
    "import pandas as pd\n",
    "import numpy as np\n",
    "import seaborn as sns\n",
    "import matplotlib.pyplot as plt\n",
    "from matplotlib import patheffects\n",
    "pe = patheffects.withStroke(foreground=\"white\", linewidth=5)\n"
   ]
  },
  {
   "cell_type": "code",
   "execution_count": null,
   "id": "c8e03bd0",
   "metadata": {},
   "outputs": [],
   "source": [
    "BASEDIR = r\"X:\\georisk\\HaRIA_B_Wind\\data\\derived\\obs\\1-minute\\events\"\n",
    "eventFile = pjoin(BASEDIR, \"CA_20230518_Hobart.csv\")\n",
    "eventFile = pjoin(BASEDIR, \"NA_all.csv\")\n",
    "stormdf = pd.read_csv(eventFile, usecols=[2, 3, 4], parse_dates=['date'],\n",
    "                dtype={'stnNum': float,\n",
    "                       'stormType': 'category'},\n",
    "                converters={'stnNum': lambda s: int(float(s.strip() or 0))})\n",
    "\n",
    "#stormdf = pd.read_csv(eventFile, usecols=[1, 2, 3],\n",
    "#                      parse_dates=['date'],\n",
    "#                      dtype={'stnNum': int,\n",
    "#                             'stormType': 'category'},)"
   ]
  },
  {
   "cell_type": "code",
   "execution_count": null,
   "id": "c63ed960",
   "metadata": {},
   "outputs": [],
   "source": [
    "stormdf.stormType.value_counts().plot(kind='bar')"
   ]
  },
  {
   "cell_type": "code",
   "execution_count": null,
   "id": "4a545d80",
   "metadata": {},
   "outputs": [],
   "source": [
    "def loadData(stnNum):\n",
    "    fname = pjoin(BASEDIR, \"events\", f\"{stnNum:06d}.pkl\")\n",
    "    df = pd.read_pickle(fname)\n",
    "    df['date'] = pd.to_datetime(df['date'])\n",
    "    df['stnNum'] = stnNum\n",
    "    df.reset_index(inplace=True)\n",
    "    df.set_index(['stnNum', 'date'], inplace=True)\n",
    "    return df"
   ]
  },
  {
   "cell_type": "code",
   "execution_count": null,
   "id": "c7f63084",
   "metadata": {},
   "outputs": [],
   "source": [
    "stndf = pd.read_csv(pjoin(BASEDIR, 'hqstations.csv'), index_col=\"stnNum\")"
   ]
  },
  {
   "cell_type": "markdown",
   "id": "da543ed0",
   "metadata": {},
   "source": [
    "Load all the observed data, for all HQ stations and concatenate into a single dataframe. We then create a new attribute (called `idx`) that is a tuple of the MultiIndex of the dataframe (based on station and date)"
   ]
  },
  {
   "cell_type": "code",
   "execution_count": null,
   "id": "8af7a440",
   "metadata": {},
   "outputs": [],
   "source": [
    "dflist = []\n",
    "for stn in stndf.index:\n",
    "    df = loadData(stn)\n",
    "    dflist.append(df)\n",
    "\n",
    "alldf = pd.concat(dflist)\n",
    "alldf['idx'] = alldf.index"
   ]
  },
  {
   "cell_type": "markdown",
   "id": "e302cc79",
   "metadata": {},
   "source": [
    "We create a similar attribute in the list of storm types..."
   ]
  },
  {
   "cell_type": "code",
   "execution_count": null,
   "id": "64121df6",
   "metadata": {},
   "outputs": [],
   "source": [
    "stormdf['idx'] = stormdf[['stnNum', 'date']].apply(tuple, axis=1)\n",
    "\n",
    "synidx = stormdf[stormdf['stormType']==\"Synoptic storm\"]['idx']\n",
    "syfidx = stormdf[stormdf['stormType']==\"Synoptic front\"]['idx']\n",
    "sbidx = stormdf[stormdf['stormType']==\"Storm-burst\"]['idx']\n",
    "\n",
    "tsidx = stormdf[stormdf['stormType']==\"Thunderstorm\"]['idx']\n",
    "fuidx = stormdf[stormdf['stormType']==\"Front up\"]['idx']\n",
    "fdidx = stormdf[stormdf['stormType']==\"Front down\"]['idx']\n",
    "\n",
    "ucidx = stormdf[stormdf['stormType']==\"Unclassified\"]['idx']\n",
    "spidx = stormdf[stormdf['stormType']==\"Spike\"]['idx']\n"
   ]
  },
  {
   "cell_type": "markdown",
   "id": "688515b1",
   "metadata": {},
   "source": [
    "Then we can select the time series of each event that is classified as the selected storm type. We then group by the time difference (i.e. the time before/after the peak gust) and take the mean of all the values. "
   ]
  },
  {
   "cell_type": "code",
   "execution_count": null,
   "id": "a0d7f6a9",
   "metadata": {},
   "outputs": [],
   "source": [
    "synevents = alldf[alldf.idx.isin(synidx.values)]\n",
    "syfevents = alldf[alldf.idx.isin(syfidx.values)]\n",
    "sbevents = alldf[alldf.idx.isin(sbidx.values)]\n",
    "\n",
    "\n",
    "tsevents = alldf[alldf.idx.isin(tsidx.values)]\n",
    "fuevents = alldf[alldf.idx.isin(fuidx.values)]\n",
    "fdevents = alldf[alldf.idx.isin(fdidx.values)]\n",
    "\n",
    "ucevents = alldf[alldf.idx.isin(ucidx.values)]\n",
    "spevents = alldf[alldf.idx.isin(spidx.values)]\n",
    "\n",
    "meansyn = synevents.reset_index().groupby('tdiff').mean().reset_index()\n",
    "meansyf = syfevents.reset_index().groupby('tdiff').mean().reset_index()\n",
    "meansb = sbevents.reset_index().groupby('tdiff').mean().reset_index()\n",
    "\n",
    "meants = tsevents.reset_index().groupby('tdiff').mean().reset_index()\n",
    "meanfu = fuevents.reset_index().groupby('tdiff').mean().reset_index()\n",
    "meanfd = fdevents.reset_index().groupby('tdiff').mean().reset_index()\n",
    "\n",
    "meanuc = ucevents.reset_index().groupby('tdiff').mean().reset_index()\n",
    "meansp = spevents.reset_index().groupby('tdiff').mean().reset_index()"
   ]
  },
  {
   "cell_type": "code",
   "execution_count": null,
   "id": "63016b55",
   "metadata": {},
   "outputs": [],
   "source": [
    "def plotEvent(df):\n",
    "    fig, ax = plt.subplots(figsize=(12,8))\n",
    "    #ax = fig.add_axes([0, 0, 1, 1])\n",
    "    #ax2 = ax.twinx()\n",
    "    axt = ax.twinx()\n",
    "    axp = ax.twinx()\n",
    "    ax.set_zorder(1)\n",
    "    ax.patch.set_visible(False)\n",
    "    axt.plot(df.tdiff, df.tempanom, label=r\"Temperature/dewpoint anomaly [$^o$C]\",\n",
    "             color='r', marker='^', markerfacecolor=\"None\", lw=2, path_effects=[pe], zorder=1,\n",
    "             markevery=5)\n",
    "    axt.plot(df.tdiff, df.dpanom, color='orangered', marker='.', markerfacecolor=\"None\",\n",
    "             lw=1, path_effects=[pe], zorder=1, markevery=5)\n",
    "    \n",
    "    ax.plot(df.tdiff, df.windgust, label=\"Wind gust ['km/h']\", \n",
    "            lw=3, path_effects=[pe], markerfacecolor=\"None\",zorder=100)\n",
    "    axp.plot(df.tdiff, df.stnpanom, color='purple', lw=2, path_effects=[pe],\n",
    "             ls='--', label='Station pressure anomaly [hPa]')\n",
    "\n",
    "\n",
    "    #axt.spines['right'].set_position((\"axes\", 1.075))\n",
    "    axt.spines[['right']].set_color('r')\n",
    "    axt.yaxis.label.set_color('r')\n",
    "    axt.tick_params(axis='y', colors='r')\n",
    "    axt.set_ylabel(r\"Temperature/dewpoint anomaly [$^o$C]\")\n",
    "\n",
    "    ax.set_ylabel(\"Gust wind speed [km/h]\")\n",
    "\n",
    "    axp.spines[['right']].set_position(('axes', 1.075))\n",
    "    axp.spines[['right']].set_color('purple')\n",
    "    axp.yaxis.label.set_color('purple')\n",
    "    axp.tick_params(axis='y', colors='purple')\n",
    "    axp.set_ylabel(\"Pressure anomaly [hPa]\")\n",
    "\n",
    "    gmin, gmax = ax.get_ylim()\n",
    "    pmin, pmax = axp.get_ylim()\n",
    "    tmin, tmax = axt.get_ylim()\n",
    "    ax.set_ylim((0, max(gmax, 100)))\n",
    "    axp.set_ylim((min(-2.0, pmin), max(pmax, 2.0)))\n",
    "    axt.set_ylim((min(-2.0, tmin), max(tmax, 2.0)))\n",
    "    #ax2.set_ylim((0, 360))\n",
    "    #ax2.set_yticks(np.arange(0, 361, 90))\n",
    "    #axr.set_ylim((0, 100))\n",
    "    #ax.set_title(meants.index[0])\n",
    "    ax.grid(True)\n",
    "    #ax2.grid(False)\n",
    "    axt.grid(False)\n",
    "    axp.grid(False)\n",
    "    #axr.grid(False)"
   ]
  },
  {
   "cell_type": "code",
   "execution_count": null,
   "id": "f988f2c2",
   "metadata": {},
   "outputs": [],
   "source": [
    "plotEvent(meants)"
   ]
  },
  {
   "cell_type": "code",
   "execution_count": null,
   "id": "64d299c3",
   "metadata": {},
   "outputs": [],
   "source": [
    "plotEvent(meanfu)"
   ]
  },
  {
   "cell_type": "code",
   "execution_count": null,
   "id": "f5ea9c37",
   "metadata": {},
   "outputs": [],
   "source": [
    "plotEvent(meanfd)"
   ]
  },
  {
   "cell_type": "code",
   "execution_count": null,
   "id": "5ea6cd18",
   "metadata": {},
   "outputs": [],
   "source": [
    "plotEvent(meansyn)"
   ]
  },
  {
   "cell_type": "code",
   "execution_count": null,
   "id": "a760eebb",
   "metadata": {},
   "outputs": [],
   "source": [
    "plotEvent(meansyf)"
   ]
  },
  {
   "cell_type": "code",
   "execution_count": null,
   "id": "db2a488c",
   "metadata": {},
   "outputs": [],
   "source": [
    "plotEvent(meansb)"
   ]
  },
  {
   "cell_type": "code",
   "execution_count": null,
   "id": "5eb1de73",
   "metadata": {},
   "outputs": [],
   "source": [
    "plotEvent(meansp)"
   ]
  },
  {
   "cell_type": "code",
   "execution_count": null,
   "id": "f7c670f4",
   "metadata": {},
   "outputs": [],
   "source": [
    "plotEvent(meanuc)"
   ]
  },
  {
   "cell_type": "code",
   "execution_count": null,
   "id": "2a70c9fc",
   "metadata": {},
   "outputs": [],
   "source": [
    "def loadGustRatioData(stnNum):\n",
    "    fname = pjoin(BASEDIR, \"gustratio\", f\"{stnNum:06d}.pkl\")\n",
    "    df = pd.read_pickle(fname)\n",
    "    df['date'] = pd.to_datetime(df['date'])\n",
    "    df['stnNum'] = stnNum\n",
    "    df.reset_index(inplace=True)\n",
    "    df.set_index(['stnNum', 'date'], inplace=True)\n",
    "    return df"
   ]
  },
  {
   "cell_type": "code",
   "execution_count": null,
   "id": "b6f7c059",
   "metadata": {},
   "outputs": [],
   "source": [
    "grdflist = []\n",
    "for stn in stndf.index:\n",
    "    df = loadGustRatioData(stn)\n",
    "    grdflist.append(df)\n",
    "\n",
    "allgrdf = pd.concat(grdflist)\n",
    "allgrdf['idx'] = allgrdf.index"
   ]
  },
  {
   "cell_type": "markdown",
   "id": "41149f5d",
   "metadata": {},
   "source": [
    "Here we join the manually classified set of events with the automatically classified events (based on the gust ratio). We reset the index of the dataframe holding the manually classified data to match the index of the automatically classified events and provide a suffix to separate the overlapping column names. A cross-tabulation then gives the comparison of events with different classifications. "
   ]
  },
  {
   "cell_type": "code",
   "execution_count": null,
   "id": "5bd3f87a",
   "metadata": {},
   "outputs": [],
   "source": [
    "compdf = pd.merge(stormdf.set_index(['stnNum', 'date']), allgrdf, suffixes=('_s', '_g'))"
   ]
  },
  {
   "cell_type": "code",
   "execution_count": null,
   "id": "0d949177",
   "metadata": {},
   "outputs": [],
   "source": [
    "pd.crosstab(compdf['stormType'], compdf['category'])"
   ]
  },
  {
   "cell_type": "code",
   "execution_count": null,
   "id": "75779a8d",
   "metadata": {},
   "outputs": [],
   "source": [
    "alldf.set_index('tdiff', append=True)[['windgust', 'tempanom', 'stnpanom', 'dpanom']]"
   ]
  }
 ],
 "metadata": {
  "kernelspec": {
   "display_name": "Python 3.9.12 ('process')",
   "language": "python",
   "name": "python3"
  },
  "language_info": {
   "codemirror_mode": {
    "name": "ipython",
    "version": 3
   },
   "file_extension": ".py",
   "mimetype": "text/x-python",
   "name": "python",
   "nbconvert_exporter": "python",
   "pygments_lexer": "ipython3",
   "version": "3.9.12"
  },
  "vscode": {
   "interpreter": {
    "hash": "51f0b0e1912627e3efa48602cb2acd529b282a7bd044c027726a3da5d4d6d60a"
   }
  }
 },
 "nbformat": 4,
 "nbformat_minor": 5
}
