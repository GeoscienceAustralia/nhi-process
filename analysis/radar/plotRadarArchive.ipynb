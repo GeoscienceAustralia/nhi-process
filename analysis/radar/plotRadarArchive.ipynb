{
 "cells": [
  {
   "cell_type": "markdown",
   "metadata": {},
   "source": [
    "# Plot archived radar imagery\n",
    "\n",
    "Using the Australian Unified Radar Archive (https://www.openradar.io/operational-network), we can plot an animation of radar data for selected locations and dates, to enable verification of storm events. "
   ]
  },
  {
   "cell_type": "code",
   "execution_count": null,
   "metadata": {},
   "outputs": [],
   "source": [
    "%matplotlib inline\n",
    "\n",
    "import os\n",
    "import tempfile\n",
    "import zipfile\n",
    "import urllib\n",
    "from datetime import datetime\n",
    "from glob import glob\n",
    "import numpy as np\n",
    "from matplotlib import pyplot as plt\n",
    "import pyart\n",
    "from matplotlib import animation\n",
    "from IPython.display import HTML\n",
    "import cartopy.crs as ccrs\n",
    "import imageio.v2 as imageio\n"
   ]
  },
  {
   "cell_type": "code",
   "execution_count": null,
   "metadata": {},
   "outputs": [],
   "source": [
    "\"\"\"\n",
    "CONFIG\n",
    "\"\"\"\n",
    "\n",
    "#Specific the radar and date we want to download\n",
    "radar_id     = 16 #this is the Marburg radar near Brisbane.\n",
    "date_str     = '2011/02/21' #in yyyy/mm/dd\n",
    "base_url     = 'http://dapds00.nci.org.au/thredds/fileServer/rq0' #base url for NCI dataset\n",
    "\n",
    "#specify start and end times for plotting a subset of radar volumes\n",
    "start_str = '01:00' #time in UTC\n",
    "end_str   = '05:00' #time in UTC\n",
    "#specify radar tilt and field to plot\n",
    "tilt      = 2 #second tilt!\n",
    "field     = 'DBZH' #reflectivity"
   ]
  },
  {
   "cell_type": "code",
   "execution_count": null,
   "metadata": {},
   "outputs": [],
   "source": [
    "#parse inputs\n",
    "date_dt      = datetime.strptime(date_str,'%Y/%m/%d')\n",
    "\n",
    "#build request filename url\n",
    "tar_fn       = str(radar_id) + '_' + date_dt.strftime('%Y%m%d') + '.pvol.zip'\n",
    "request_url  = '/'.join([base_url, str(radar_id), date_dt.strftime('%Y'), 'vol', tar_fn])\n",
    "print('my request is ',request_url)"
   ]
  },
  {
   "cell_type": "code",
   "execution_count": null,
   "metadata": {},
   "outputs": [],
   "source": [
    "#downloading and extracting the data\n",
    "\n",
    "#download the zip file\n",
    "if not os.path.isfile(tar_fn):\n",
    "    urllib.request.urlretrieve(request_url, tar_fn)\n",
    "\n",
    "#extract the zip file to a temporary directory\n",
    "temp_dir = tempfile.mkdtemp()\n",
    "zip_fh = zipfile.ZipFile(tar_fn)\n",
    "zip_fh.extractall(path = temp_dir)\n",
    "zip_fh.close()\n",
    "\n",
    "#list all the volumes extracted from the zip file\n",
    "file_list = sorted(glob(temp_dir + '/*'))\n",
    "print('\\n'.join(file_list)) #print with newline between each list item"
   ]
  },
  {
   "cell_type": "code",
   "execution_count": null,
   "metadata": {},
   "outputs": [],
   "source": [
    "#first convert the start/end time strings into datetime numbers\n",
    "start_dt  = datetime.strptime(date_str + ' ' + start_str, '%Y/%m/%d %H:%M')\n",
    "end_dt    = datetime.strptime(date_str + ' ' + end_str, '%Y/%m/%d %H:%M')\n",
    "\n",
    "#now let's read the datetime numbers of all the volumes for comparision\n",
    "file_dt_list = []\n",
    "for i, fname in enumerate(file_list):\n",
    "    file_dt_list.append(datetime.strptime(os.path.basename(fname)[3:18],'%Y%m%d_%H%M%S'))\n",
    "    \n",
    "#find the index of volumes within our start and end times\n",
    "file_dt_array = np.array(file_dt_list)\n",
    "index_array = np.where(np.logical_and(file_dt_array >= start_dt, file_dt_array<=end_dt))[0]"
   ]
  },
  {
   "cell_type": "code",
   "execution_count": null,
   "metadata": {},
   "outputs": [],
   "source": [
    "#build list of radar objects to plot\n",
    "radar_list = []\n",
    "for index in index_array:\n",
    "    #get file name of index\n",
    "    file_name = file_list[index]\n",
    "    #open volume using pyart\n",
    "    try:\n",
    "        my_radar = pyart.aux_io.read_odim_h5(file_name, file_field_names=True)\n",
    "    except:\n",
    "        print('failed to open file', file_name)\n",
    "        continue\n",
    "    #clean up field metadata\n",
    "    my_radar.fields['DBZH']['standard_name'] = 'Reflectivity'\n",
    "    my_radar.fields['DBZH']['units'] = 'dBZ'\n",
    "    my_radar.fields['DBZH']['long_name'] = 'Radar Reflectivity Factor'\n",
    "    #append to radar list for animation later\n",
    "    radar_list += [my_radar]\n",
    "\n",
    "#determine plot domains\n",
    "radar_lat = my_radar.latitude['data'][0]\n",
    "radar_lon = my_radar.longitude['data'][0]\n",
    "min_lat   = radar_lat - 1.0\n",
    "max_lat   = radar_lat + 1.0\n",
    "min_lon   = radar_lon - 1.5\n",
    "max_lon   = radar_lon + 1.5"
   ]
  },
  {
   "cell_type": "code",
   "execution_count": null,
   "metadata": {},
   "outputs": [],
   "source": [
    "#generate animation of reflectivity\n",
    "\n",
    "# Set up the GIS projection\n",
    "projection = ccrs.Mercator(\n",
    "                central_longitude=radar_lon,\n",
    "                min_latitude=min_lat, max_latitude=max_lat)\n",
    "\n",
    "def plot_reflectivity(radarframe, seq):\n",
    "    fig = plt.figure(figsize=(16, 12))\n",
    "    display = pyart.graph.RadarMapDisplay(radarframe)\n",
    "    display.plot_ppi_map('DBZH', tilt,\n",
    "                         projection=projection, colorbar_flag=False,\n",
    "                         min_lon=min_lon, max_lon=max_lon, min_lat=min_lat, max_lat=max_lat,\n",
    "                         vmin=0, vmax=64, cmap=pyart.graph.cm_colorblind.HomeyerRainbow,\n",
    "                         resolution='10m')\n",
    "    lb = display._get_colorbar_label('DBZH')\n",
    "    cb = plt.colorbar(display.plots[0], aspect=30, pad=0.07, \n",
    "                      orientation='horizontal')\n",
    "    cb.ax.tick_params(labelsize=10)\n",
    "    cb.set_label(lb, fontsize=10)\n",
    "\n",
    "    #Now we add lat lon lines\n",
    "    gl = display.ax.gridlines(draw_labels=True,\n",
    "                              linewidth=2, color='gray', alpha=0.5,\n",
    "                              linestyle='--')\n",
    "    gl.xlabel_style = {'size': 10}\n",
    "    gl.ylabel_style = {'size': 10}\n",
    "    gl.top_labels = False\n",
    "    gl.right_labels = False\n",
    "    outputfile = os.path.join(temp_dir, f\"radar.{seq:04d}.png\")\n",
    "    plt.savefig(outputfile)\n",
    "    return imageio.imread(outputfile)\n",
    "\n",
    "imglist = []\n",
    "for idx, frame in enumerate(radar_list):\n",
    "    img = plot_reflectivity(frame, idx)\n",
    "    imglist.append(img)\n",
    "\n",
    "dtstr = date_dt.strftime('%Y%m%d')\n",
    "imageio.mimwrite(f\"radar.{radar_id:03d}.{dtstr}.{field}.gif\", imglist, fps=5)\n"
   ]
  }
 ],
 "metadata": {
  "kernelspec": {
   "display_name": "Python 3 (ipykernel)",
   "language": "python",
   "name": "python3"
  },
  "language_info": {
   "codemirror_mode": {
    "name": "ipython",
    "version": 3
   },
   "file_extension": ".py",
   "mimetype": "text/x-python",
   "name": "python",
   "nbconvert_exporter": "python",
   "pygments_lexer": "ipython3",
   "version": "3.9.12"
  },
  "vscode": {
   "interpreter": {
    "hash": "51f0b0e1912627e3efa48602cb2acd529b282a7bd044c027726a3da5d4d6d60a"
   }
  }
 },
 "nbformat": 4,
 "nbformat_minor": 2
}
