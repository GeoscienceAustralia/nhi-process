{
 "cells": [
  {
   "cell_type": "markdown",
   "metadata": {},
   "source": [
    "# Summarise weather station data\n",
    "\n",
    "This notebook provides a quick view on weather station data. It's using only daily maximum wind gust data, but that includes a bunch of present and past weather codes in addition to the maximum daily wind gust. In time we can add more functionality (e.g. basic distribution plot, time history of obs, etc.)"
   ]
  },
  {
   "cell_type": "code",
   "execution_count": 14,
   "metadata": {},
   "outputs": [],
   "source": [
    "%matplotlib inline\n",
    "\n",
    "import os\n",
    "import pandas as pd\n",
    "import numpy as np\n",
    "from datetime import datetime, timedelta\n",
    "\n",
    "import matplotlib.pyplot as plt\n",
    "import ipywidgets as widgets\n",
    "from IPython.display import display, clear_output\n",
    "import seaborn as sns\n",
    "sns.set_style('whitegrid')\n",
    "import warnings\n",
    "warnings.filterwarnings(\"ignore\", 'SettingWithCopyWarning')\n",
    "warnings.filterwarnings(\"ignore\", 'DtypeWarning')"
   ]
  },
  {
   "cell_type": "code",
   "execution_count": 15,
   "metadata": {},
   "outputs": [],
   "source": [
    "dataPath = r\"X:\\georisk\\HaRIA_B_Wind\\data\\raw\\from_bom\\2019\\Daily\"\n",
    "stnfile = os.path.join(dataPath, \"DC02D_StnDet_999999999632559.txt\")\n",
    "\n",
    "colnames = [\"id\", 'stnNum', 'rainfalldist', 'stnName', 'stnOpen', 'stnClose',\n",
    "            'stnLat', 'stnLon', 'stnLoc', 'stnState', 'stnElev', 'stnBarmoeterElev',\n",
    "            'stnWMOIndex', 'stnDataStartYear', 'stnDataEndYear',\n",
    "            'pctComplete', 'pctY', 'pctN', 'pctW', 'pctS', 'pctI', 'end']\n",
    "stndf = pd.read_csv(stnfile, sep=',', index_col='stnNum', names=colnames,\n",
    "                    keep_default_na=False, header=1,\n",
    "                    converters={\n",
    "                        'stnName': str.strip,\n",
    "                        'stnState': str.strip\n",
    "                        })"
   ]
  },
  {
   "cell_type": "code",
   "execution_count": 16,
   "metadata": {},
   "outputs": [
    {
     "name": "stderr",
     "output_type": "stream",
     "text": [
      "C:\\Users\\u12161\\AppData\\Local\\Temp\\ipykernel_6772\\3603158868.py:3: DtypeWarning: Columns (5,7,9) have mixed types. Specify dtype option on import or set low_memory=False.\n",
      "  obsdf = pd.read_csv(obsfile)\n",
      "C:\\Users\\u12161\\AppData\\Local\\Temp\\ipykernel_6772\\3603158868.py:3: DtypeWarning: Columns (17,33) have mixed types. Specify dtype option on import or set low_memory=False.\n",
      "  obsdf = pd.read_csv(obsfile)\n",
      "C:\\Users\\u12161\\AppData\\Local\\Temp\\ipykernel_6772\\3603158868.py:3: DtypeWarning: Columns (13,15,17,29,31,33) have mixed types. Specify dtype option on import or set low_memory=False.\n",
      "  obsdf = pd.read_csv(obsfile)\n",
      "C:\\Users\\u12161\\AppData\\Local\\Temp\\ipykernel_6772\\3603158868.py:3: DtypeWarning: Columns (17,33) have mixed types. Specify dtype option on import or set low_memory=False.\n",
      "  obsdf = pd.read_csv(obsfile)\n",
      "C:\\Users\\u12161\\AppData\\Local\\Temp\\ipykernel_6772\\3603158868.py:3: DtypeWarning: Columns (17,33) have mixed types. Specify dtype option on import or set low_memory=False.\n",
      "  obsdf = pd.read_csv(obsfile)\n",
      "C:\\Users\\u12161\\AppData\\Local\\Temp\\ipykernel_6772\\3603158868.py:3: DtypeWarning: Columns (17,33) have mixed types. Specify dtype option on import or set low_memory=False.\n",
      "  obsdf = pd.read_csv(obsfile)\n",
      "C:\\Users\\u12161\\AppData\\Local\\Temp\\ipykernel_6772\\3603158868.py:3: DtypeWarning: Columns (11,13,15,17,27,29,31,33) have mixed types. Specify dtype option on import or set low_memory=False.\n",
      "  obsdf = pd.read_csv(obsfile)\n",
      "C:\\Users\\u12161\\AppData\\Local\\Temp\\ipykernel_6772\\3603158868.py:3: DtypeWarning: Columns (5,7,9) have mixed types. Specify dtype option on import or set low_memory=False.\n",
      "  obsdf = pd.read_csv(obsfile)\n",
      "C:\\Users\\u12161\\AppData\\Local\\Temp\\ipykernel_6772\\3603158868.py:3: DtypeWarning: Columns (5,7,9) have mixed types. Specify dtype option on import or set low_memory=False.\n",
      "  obsdf = pd.read_csv(obsfile)\n"
     ]
    }
   ],
   "source": [
    "for stnNum in stndf.index:\n",
    "    obsfile = os.path.join(dataPath, f\"DC02D_Data_{stnNum:06d}_999999999632559.txt\")\n",
    "    obsdf = pd.read_csv(obsfile)\n",
    "    startYear = obsdf.Year.min()\n",
    "    endYear = obsdf.Year.max()\n",
    "    stndf.loc[stnNum, 'stnDataStartYear'] = startYear\n",
    "    stndf.loc[stnNum, 'stnDataEndYear'] = endYear"
   ]
  },
  {
   "cell_type": "code",
   "execution_count": 10,
   "metadata": {},
   "outputs": [],
   "source": [
    "def onclick(change):\n",
    "    with out:\n",
    "        clear_output()\n",
    "        stnNum = change.new\n",
    "        obsfile = os.path.join(dataPath, f\"DC02D_Data_{stnNum:06d}_999999999632559.txt\")\n",
    "        df = pd.read_csv(obsfile, skipinitialspace=True)\n",
    "        display(df.describe())"
   ]
  },
  {
   "cell_type": "code",
   "execution_count": 11,
   "metadata": {},
   "outputs": [
    {
     "data": {
      "application/vnd.jupyter.widget-view+json": {
       "model_id": "9fc78b0306b348c18d5e4cfd137916bf",
       "version_major": 2,
       "version_minor": 0
      },
      "text/plain": [
       "Dropdown(description='Station', index=18, options=(('WYNDHAM AERO', 1006), ('TROUGHTON ISLAND', 1007), ('KURI …"
      ]
     },
     "metadata": {},
     "output_type": "display_data"
    },
    {
     "data": {
      "application/vnd.jupyter.widget-view+json": {
       "model_id": "fb56bc43154b48ef8f8c35adc0abcbcd",
       "version_major": 2,
       "version_minor": 0
      },
      "text/plain": [
       "Output()"
      ]
     },
     "metadata": {},
     "output_type": "display_data"
    }
   ],
   "source": [
    "options = [(stnName, idx) for idx, stnName in stndf['stnName'].items()]\n",
    "out = widgets.Output()\n",
    "\n",
    "stnselector = widgets.Dropdown(options=options, description='Station', value=3003)\n",
    "stnselector.observe(onclick, names='value')\n",
    "out.clear_output(wait=False)\n",
    "display(stnselector)\n",
    "display(out)"
   ]
  }
 ],
 "metadata": {
  "kernelspec": {
   "display_name": "Python 3.9.12 ('process')",
   "language": "python",
   "name": "python3"
  },
  "language_info": {
   "codemirror_mode": {
    "name": "ipython",
    "version": 3
   },
   "file_extension": ".py",
   "mimetype": "text/x-python",
   "name": "python",
   "nbconvert_exporter": "python",
   "pygments_lexer": "ipython3",
   "version": "3.9.12"
  },
  "orig_nbformat": 4,
  "vscode": {
   "interpreter": {
    "hash": "51f0b0e1912627e3efa48602cb2acd529b282a7bd044c027726a3da5d4d6d60a"
   }
  }
 },
 "nbformat": 4,
 "nbformat_minor": 2
}
