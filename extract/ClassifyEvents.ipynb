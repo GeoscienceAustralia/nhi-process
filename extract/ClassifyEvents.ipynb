{
 "cells": [
  {
   "cell_type": "markdown",
   "metadata": {},
   "source": [
    "# Classification of wind gust events\n",
    "\n",
    "This notebook enables classification of daily maximum wind gust events into specific classes of storm type. Following the approach of [Cook (2023)][1], the notebook will plot the time history of gust wind speed, direction, temperature and station pressure over a 2-hour window around each gust event. The user then selects the storm type from one of 7 options.\n",
    "\n",
    "\n",
    "[1]: Cook, N. J., 2023: Automated classification of gust events in the contiguous USA. *Journal of Wind Engineering and Industrial Aerodynamics*, **234**, 105330, https://doi.org/10.1016/j.jweia.2023.105330.\n"
   ]
  },
  {
   "cell_type": "code",
   "execution_count": 10,
   "metadata": {},
   "outputs": [],
   "source": [
    "%matplotlib inline\n",
    "\n",
    "import os\n",
    "import time\n",
    "from functools import partial\n",
    "\n",
    "import pandas as pd\n",
    "import numpy as np\n",
    "from datetime import datetime, timedelta\n",
    "\n",
    "import matplotlib.pyplot as plt\n",
    "import ipywidgets as widgets\n",
    "from ipywidgets import Layout, Box, VBox\n",
    "from IPython.display import display, clear_output\n",
    "import seaborn as sns\n",
    "sns.set_style('whitegrid')\n",
    "import warnings\n",
    "warnings.filterwarnings(\"ignore\", 'SettingWithCopyWarning')"
   ]
  },
  {
   "cell_type": "code",
   "execution_count": 11,
   "metadata": {},
   "outputs": [],
   "source": [
    "BASEDIR = r\"X:\\georisk\\HaRIA_B_Wind\\data\\derived\\obs\\1-minute\\events\"\n",
    "hqstations = pd.read_csv(os.path.join(BASEDIR, \"hqstations.csv\"), index_col=\"stnNum\")\n",
    "options = [(stnName, idx) for idx, stnName in hqstations['stnName'].items()]"
   ]
  },
  {
   "cell_type": "code",
   "execution_count": 12,
   "metadata": {},
   "outputs": [],
   "source": [
    "def loadData(stnNum):\n",
    "    fname = os.path.join(BASEDIR, \"events\", f\"{stnNum:06d}.pkl\")\n",
    "    df = pd.read_pickle(fname)\n",
    "    df.reset_index(inplace=True)\n",
    "    df.set_index(['date'], inplace=True)\n",
    "    return df\n",
    "\n",
    "def plotEvent(pdf, fig):\n",
    "    fig.clear()\n",
    "    ax = fig.add_axes([0, 0, 1, 1])\n",
    "    ax2 = ax.twinx()\n",
    "    axt = ax.twinx()\n",
    "    axp = ax.twinx()\n",
    "    pdf.plot.line(x='tdiff', y='windgust', marker='o', ax=ax)\n",
    "    pdf.plot.scatter(x='tdiff', y='winddir', ax=ax2, color='g', marker='o',)\n",
    "    pdf.plot.line(x='tdiff', y='tempanom', color='r', ax=axt)\n",
    "    pdf.plot.line(x='tdiff', y='stnpanom', color='purple', ax=axp)\n",
    "    axt.spines['right'].set_position((\"axes\", 1.1))\n",
    "    axt.set_ylabel(r\"Temperature anomaly [$^o$C]\")\n",
    "    ax.set_ylabel(\"Gust wind speed [km/h]\")\n",
    "    axp.set_ylabel(\"Pressure anomaly [hPa]\")\n",
    "    axp.spines['right'].set_position(('axes', 1.25))\n",
    "    gmin, gmax = ax.get_ylim()\n",
    "    ax.set_ylim((0, max(gmax, 100)))\n",
    "    ax2.set_ylim((0, 360))\n",
    "    ax2.set_yticks(np.arange(0, 361, 90))\n",
    "    ax.set_title(pdf.index[0])\n",
    "    ax.grid(True)\n",
    "    ax2.grid(False)\n",
    "    axt.grid(False)\n",
    "    axp.grid(False)\n",
    "    return fig\n",
    "\n",
    "class Plotter:\n",
    "    def __init__(self, df, fig, initial=0):\n",
    "        self.df = df\n",
    "        self.fig = fig\n",
    "        self.value = initial\n",
    "        self.nevents = len(self.df.index.unique('date'))\n",
    "        eventdate = self.df.index.unique('date')[self.value]\n",
    "        plotEvent(self.df[self.df.index==eventdate], self.fig)\n",
    "    def plot(self, amount=1):\n",
    "        if self.value == self.nevents - 1:\n",
    "            print(\"No more events\")\n",
    "            self.fig.clf()\n",
    "            return\n",
    "        self.value += amount\n",
    "        print(f\"Event #: {self.value} of {self.nevents}\")\n",
    "        eventdate = self.df.index.unique('date')[self.value]\n",
    "        plotEvent(self.df[self.df.index==eventdate], self.fig)\n",
    "        return self.fig\n",
    "    def __iter__(self, sentinal=False):\n",
    "        return iter(self.plot, sentinal)\n",
    "\n",
    "def button_callback(w):\n",
    "    #out.clear_output(wait=True)\n",
    "    with out:\n",
    "        eventdate = df.index.unique('date')[plotter.value]\n",
    "        print(f\"Date: {eventdate} | Storm type: {selector.value}\")\n",
    "        eventlist.append((stnselector.value, eventdate, selector.value))\n",
    "        \n",
    "def plotnext(plotter, w):\n",
    "    out.clear_output(wait=True)\n",
    "    with out:\n",
    "        plotter.plot()\n",
    "        display(plotter.fig)"
   ]
  },
  {
   "cell_type": "code",
   "execution_count": 13,
   "metadata": {},
   "outputs": [],
   "source": [
    "#def dropdown_eventhandler(change, names):\n",
    "#    global df\n",
    "#    print(change.value)\n",
    "#    print(change.new)\n",
    "#    df = loadData(change.new)\n",
    "stnselector = widgets.Dropdown(options=options, description='Station')"
   ]
  },
  {
   "cell_type": "code",
   "execution_count": 14,
   "metadata": {},
   "outputs": [],
   "source": [
    "selector = widgets.ToggleButtons(\n",
    "    options=[\"Unclassified\", \"Synoptic\", \"Storm-burst\", \"Front down\", \"Front up\", \"Thunderstorm\", \"Spike\"],\n",
    "    description=\"Storm type\",\n",
    "    disabled=False\n",
    ")\n",
    "assignbtn = widgets.Button(description=\"Assign storm type\")\n",
    "nextevent = widgets.Button(description=\"Next event\")\n",
    "out = widgets.Output()\n",
    "\n",
    "eventlist = []\n"
   ]
  },
  {
   "cell_type": "code",
   "execution_count": 15,
   "metadata": {},
   "outputs": [
    {
     "data": {
      "application/vnd.jupyter.widget-view+json": {
       "model_id": "8f4098289e144b8ba3e0a9ea04f21f4a",
       "version_major": 2,
       "version_minor": 0
      },
      "text/plain": [
       "Dropdown(description='Station', options=(('BROOME AIRPORT', 3003), ('PORT HEDLAND AIRPORT', 4032), ('LEARMONTH…"
      ]
     },
     "metadata": {},
     "output_type": "display_data"
    }
   ],
   "source": [
    "display(stnselector)"
   ]
  },
  {
   "cell_type": "code",
   "execution_count": 79,
   "metadata": {},
   "outputs": [
    {
     "data": {
      "application/vnd.jupyter.widget-view+json": {
       "model_id": "a2ac746f79264861b3e8cbb58aa252a0",
       "version_major": 2,
       "version_minor": 0
      },
      "text/plain": [
       "ToggleButtons(description='Storm type', index=5, options=('Unclassified', 'Synoptic', 'Storm-burst', 'Front do…"
      ]
     },
     "metadata": {},
     "output_type": "display_data"
    },
    {
     "data": {
      "application/vnd.jupyter.widget-view+json": {
       "model_id": "e890a477192c495c896882645430f262",
       "version_major": 2,
       "version_minor": 0
      },
      "text/plain": [
       "Button(description='Assign storm type', style=ButtonStyle())"
      ]
     },
     "metadata": {},
     "output_type": "display_data"
    },
    {
     "data": {
      "application/vnd.jupyter.widget-view+json": {
       "model_id": "50b9f39b946c4a359de905abb19f6d87",
       "version_major": 2,
       "version_minor": 0
      },
      "text/plain": [
       "Button(description='Next event', style=ButtonStyle())"
      ]
     },
     "metadata": {},
     "output_type": "display_data"
    },
    {
     "data": {
      "application/vnd.jupyter.widget-view+json": {
       "model_id": "6b04f6fdcda847a4ba34d24cb4d43cb9",
       "version_major": 2,
       "version_minor": 0
      },
      "text/plain": [
       "Output(outputs=({'name': 'stdout', 'text': 'No more events\\n', 'output_type': 'stream'}, {'output_type': 'disp…"
      ]
     },
     "execution_count": 79,
     "metadata": {},
     "output_type": "execute_result"
    }
   ],
   "source": [
    "df = None\n",
    "df = loadData(stnselector.value)\n",
    "nevents = len(df.index.unique('date'))\n",
    "fig = plt.figure(figsize=(12, 6))\n",
    "plotter = Plotter(df, fig)\n",
    "assignbtn.on_click(button_callback)\n",
    "nextevent.on_click(partial(plotnext, plotter))\n",
    "\n",
    "display(selector, assignbtn, nextevent)\n",
    "out.clear_output(wait=True)\n",
    "with out:\n",
    "    plt.show()\n",
    "\n",
    "out\n",
    "\n"
   ]
  },
  {
   "cell_type": "code",
   "execution_count": 80,
   "metadata": {},
   "outputs": [
    {
     "data": {
      "text/html": [
       "<div>\n",
       "<style scoped>\n",
       "    .dataframe tbody tr th:only-of-type {\n",
       "        vertical-align: middle;\n",
       "    }\n",
       "\n",
       "    .dataframe tbody tr th {\n",
       "        vertical-align: top;\n",
       "    }\n",
       "\n",
       "    .dataframe thead th {\n",
       "        text-align: right;\n",
       "    }\n",
       "</style>\n",
       "<table border=\"1\" class=\"dataframe\">\n",
       "  <thead>\n",
       "    <tr style=\"text-align: right;\">\n",
       "      <th></th>\n",
       "      <th>stnNum</th>\n",
       "      <th>date</th>\n",
       "      <th>stormType</th>\n",
       "    </tr>\n",
       "  </thead>\n",
       "  <tbody>\n",
       "    <tr>\n",
       "      <th>0</th>\n",
       "      <td>3003</td>\n",
       "      <td>2003-02-06</td>\n",
       "      <td>Front up</td>\n",
       "    </tr>\n",
       "    <tr>\n",
       "      <th>1</th>\n",
       "      <td>3003</td>\n",
       "      <td>2008-12-23</td>\n",
       "      <td>Synoptic</td>\n",
       "    </tr>\n",
       "    <tr>\n",
       "      <th>2</th>\n",
       "      <td>3003</td>\n",
       "      <td>2012-03-17</td>\n",
       "      <td>Storm-burst</td>\n",
       "    </tr>\n",
       "    <tr>\n",
       "      <th>3</th>\n",
       "      <td>3003</td>\n",
       "      <td>2017-02-23</td>\n",
       "      <td>Front down</td>\n",
       "    </tr>\n",
       "    <tr>\n",
       "      <th>4</th>\n",
       "      <td>3003</td>\n",
       "      <td>2017-12-27</td>\n",
       "      <td>Synoptic</td>\n",
       "    </tr>\n",
       "    <tr>\n",
       "      <th>...</th>\n",
       "      <td>...</td>\n",
       "      <td>...</td>\n",
       "      <td>...</td>\n",
       "    </tr>\n",
       "    <tr>\n",
       "      <th>642</th>\n",
       "      <td>85072</td>\n",
       "      <td>2001-01-15</td>\n",
       "      <td>Spike</td>\n",
       "    </tr>\n",
       "    <tr>\n",
       "      <th>643</th>\n",
       "      <td>85072</td>\n",
       "      <td>2001-01-25</td>\n",
       "      <td>Spike</td>\n",
       "    </tr>\n",
       "    <tr>\n",
       "      <th>644</th>\n",
       "      <td>85072</td>\n",
       "      <td>2001-01-29</td>\n",
       "      <td>Spike</td>\n",
       "    </tr>\n",
       "    <tr>\n",
       "      <th>645</th>\n",
       "      <td>85072</td>\n",
       "      <td>2001-02-08</td>\n",
       "      <td>Spike</td>\n",
       "    </tr>\n",
       "    <tr>\n",
       "      <th>646</th>\n",
       "      <td>85072</td>\n",
       "      <td>2001-02-18</td>\n",
       "      <td>Spike</td>\n",
       "    </tr>\n",
       "  </tbody>\n",
       "</table>\n",
       "<p>647 rows × 3 columns</p>\n",
       "</div>"
      ],
      "text/plain": [
       "     stnNum        date    stormType\n",
       "0      3003  2003-02-06     Front up\n",
       "1      3003  2008-12-23     Synoptic\n",
       "2      3003  2012-03-17  Storm-burst\n",
       "3      3003  2017-02-23   Front down\n",
       "4      3003  2017-12-27     Synoptic\n",
       "..      ...         ...          ...\n",
       "642   85072  2001-01-15        Spike\n",
       "643   85072  2001-01-25        Spike\n",
       "644   85072  2001-01-29        Spike\n",
       "645   85072  2001-02-08        Spike\n",
       "646   85072  2001-02-18        Spike\n",
       "\n",
       "[647 rows x 3 columns]"
      ]
     },
     "execution_count": 80,
     "metadata": {},
     "output_type": "execute_result"
    }
   ],
   "source": [
    "pd.DataFrame(eventlist, columns=['stnNum', 'date', 'stormType'])"
   ]
  }
 ],
 "metadata": {
  "kernelspec": {
   "display_name": "Python 3.9.12 ('process')",
   "language": "python",
   "name": "python3"
  },
  "language_info": {
   "codemirror_mode": {
    "name": "ipython",
    "version": 3
   },
   "file_extension": ".py",
   "mimetype": "text/x-python",
   "name": "python",
   "nbconvert_exporter": "python",
   "pygments_lexer": "ipython3",
   "version": "3.9.12"
  },
  "orig_nbformat": 4,
  "vscode": {
   "interpreter": {
    "hash": "51f0b0e1912627e3efa48602cb2acd529b282a7bd044c027726a3da5d4d6d60a"
   }
  }
 },
 "nbformat": 4,
 "nbformat_minor": 2
}
